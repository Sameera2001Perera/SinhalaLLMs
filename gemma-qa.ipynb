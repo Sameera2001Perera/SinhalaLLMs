{
  "cells": [
    {
      "cell_type": "code",
      "execution_count": null,
      "metadata": {
        "id": "uOApyv7oae15"
      },
      "outputs": [],
      "source": [
        "!pip -q install datasets peft accelerate bitsandbytes transformers wandb scikit-learn"
      ]
    },
    {
      "cell_type": "code",
      "execution_count": null,
      "metadata": {
        "id": "7mUOkXuPamTS"
      },
      "outputs": [],
      "source": [
        "import torch\n",
        "import transformers\n",
        "from datasets import load_dataset\n",
        "from typing import Optional\n",
        "from transformers import (\n",
        "    AutoTokenizer,\n",
        "    AutoConfig,\n",
        "    AutoModelForCausalLM,\n",
        "    BitsAndBytesConfig,\n",
        "    PreTrainedModel,\n",
        ")\n",
        "from peft import (\n",
        "    prepare_model_for_kbit_training,\n",
        "    LoraConfig,\n",
        "    get_peft_model,\n",
        "    PeftModel,\n",
        ")\n",
        "from sklearn.model_selection import train_test_split\n",
        "import sklearn\n",
        "from huggingface_hub import login"
      ]
    },
    {
      "cell_type": "code",
      "execution_count": null,
      "metadata": {
        "id": "mLSUieWAtd3R"
      },
      "outputs": [],
      "source": [
        "# from google.colab import drive\n",
        "# drive.mount('/content/drive')"
      ]
    },
    {
      "cell_type": "code",
      "execution_count": null,
      "metadata": {
        "id": "Vyq591Rfap-O"
      },
      "outputs": [],
      "source": [
        "login(token=\"hf_key\")"
      ]
    },
    {
      "cell_type": "code",
      "execution_count": null,
      "metadata": {
        "id": "PNlAg_rEasXZ"
      },
      "outputs": [],
      "source": [
        "MICRO_BATCH_SIZE = 8\n",
        "BATCH_SIZE = 64\n",
        "GRADIENT_ACCUMULATION_STEPS = BATCH_SIZE // MICRO_BATCH_SIZE\n",
        "EPOCHS = 5\n",
        "LEARNING_RATE = 2e-4\n",
        "MAX_SEQ_LEN = 512\n",
        "LORA_R = 4\n",
        "LORA_ALPHA = 8\n",
        "LORA_DROPOUT = 0.05\n",
        "\n",
        "BASE_MODEL_NAME = \"google/gemma-2-2b\"\n",
        "PRETRAINED_MODEL_DIR = \"gemma\"  #cpt model\n",
        "OUTPUT_DIR = \"GemmaSin-2-2b-QA\""
      ]
    },
    {
      "cell_type": "code",
      "execution_count": null,
      "metadata": {
        "id": "w3sOylYqa3T8"
      },
      "outputs": [],
      "source": [
        "#load base model configuration\n",
        "config = AutoConfig.from_pretrained(BASE_MODEL_NAME)"
      ]
    },
    {
      "cell_type": "code",
      "execution_count": null,
      "metadata": {
        "id": "Deabz7OybSMX"
      },
      "outputs": [],
      "source": [
        "#quantization setup\n",
        "load_in_4bit = False\n",
        "load_in_8bit = True\n",
        "quantization_config: Optional[BitsAndBytesConfig] = BitsAndBytesConfig(\n",
        "    load_in_4bit=load_in_4bit,\n",
        "    load_in_8bit=load_in_8bit,\n",
        "    llm_int8_threshold=6.0,\n",
        "    llm_int8_has_fp16_weight=False,\n",
        "    bnb_4bit_compute_dtype=torch.float16,\n",
        "    bnb_4bit_use_double_quant=True,\n",
        "    bnb_4bit_quant_type='nf4',\n",
        ") if load_in_4bit or load_in_8bit else None"
      ]
    },
    {
      "cell_type": "code",
      "execution_count": null,
      "metadata": {
        "id": "DV09rq0lbV9W"
      },
      "outputs": [],
      "source": [
        "#load the base model\n",
        "base_model: PreTrainedModel = AutoModelForCausalLM.from_pretrained(\n",
        "    BASE_MODEL_NAME,\n",
        "    config=config,\n",
        "    device_map=\"auto\",\n",
        "    quantization_config=quantization_config,\n",
        "    torch_dtype=torch.float16,\n",
        ")"
      ]
    },
    {
      "cell_type": "code",
      "execution_count": null,
      "metadata": {
        "id": "BCAfUL0Nbbqa"
      },
      "outputs": [],
      "source": [
        "#load pre-trained LoRA model and merge weights\n",
        "model = PeftModel.from_pretrained(base_model, PRETRAINED_MODEL_DIR)\n",
        "model = model.merge_and_unload()"
      ]
    },
    {
      "cell_type": "code",
      "execution_count": null,
      "metadata": {
        "id": "nSbiel-RbfVW"
      },
      "outputs": [],
      "source": [
        "tokenizer = AutoTokenizer.from_pretrained(\n",
        "    BASE_MODEL_NAME,\n",
        "    add_eos_token=True,\n",
        ")\n",
        "tokenizer.pad_token_id = 0"
      ]
    },
    {
      "cell_type": "code",
      "execution_count": null,
      "metadata": {
        "id": "IYXitrlUbjBG"
      },
      "outputs": [],
      "source": [
        "#prepare model for training\n",
        "model = prepare_model_for_kbit_training(model)"
      ]
    },
    {
      "cell_type": "code",
      "execution_count": null,
      "metadata": {
        "id": "STHE6Gbsbjlf"
      },
      "outputs": [],
      "source": [
        "lora_config = LoraConfig(\n",
        "    r=LORA_R,\n",
        "    lora_alpha=LORA_ALPHA,\n",
        "    target_modules=[\"q_proj\", \"v_proj\", \"k_proj\", \"o_proj\", \"gate_proj\", \"up_proj\", \"down_proj\"],\n",
        "    lora_dropout=LORA_DROPOUT,\n",
        "    bias=\"none\",\n",
        "    task_type=\"CAUSAL_LM\",\n",
        ")"
      ]
    },
    {
      "cell_type": "code",
      "execution_count": null,
      "metadata": {
        "id": "uQhftxVgbnR8"
      },
      "outputs": [],
      "source": [
        "model = get_peft_model(model, lora_config)\n",
        "model.print_trainable_parameters()"
      ]
    },
    {
      "cell_type": "code",
      "execution_count": null,
      "metadata": {
        "id": "uZWGRnI-dzBW"
      },
      "outputs": [],
      "source": [
        "#load dataset\n",
        "qa_dataset = load_dataset(\"Ransaka/aya_sinhala_subset\")"
      ]
    },
    {
      "cell_type": "code",
      "execution_count": null,
      "metadata": {
        "colab": {
          "base_uri": "https://localhost:8080/"
        },
        "id": "v9oKOVF-0pco",
        "outputId": "6311368f-efe8-4efb-af94-0d6632d5ec3c"
      },
      "outputs": [
        {
          "name": "stdout",
          "output_type": "stream",
          "text": [
            "DatasetDict({\n",
            "    train: Dataset({\n",
            "        features: ['inputs', 'targets', 'annotation_type', 'user_id'],\n",
            "        num_rows: 14524\n",
            "    })\n",
            "})\n"
          ]
        }
      ],
      "source": [
        "print(qa_dataset)"
      ]
    },
    {
      "cell_type": "code",
      "execution_count": null,
      "metadata": {
        "colab": {
          "base_uri": "https://localhost:8080/"
        },
        "id": "iUj9T1iti_fY",
        "outputId": "cbdafcf4-8c57-4fbe-c4d8-31bda90dcf6a"
      },
      "outputs": [
        {
          "name": "stdout",
          "output_type": "stream",
          "text": [
            "Column names: {'train': ['inputs', 'targets', 'annotation_type', 'user_id']}\n"
          ]
        }
      ],
      "source": [
        "if hasattr(qa_dataset, 'column_names'):\n",
        "    print(\"Column names:\", qa_dataset.column_names)"
      ]
    },
    {
      "cell_type": "code",
      "execution_count": null,
      "metadata": {
        "id": "hvM5se3hjCkP"
      },
      "outputs": [],
      "source": [
        "df = qa_dataset['train']"
      ]
    },
    {
      "cell_type": "code",
      "execution_count": null,
      "metadata": {
        "id": "JLfQMx4OjF5Z"
      },
      "outputs": [],
      "source": [
        "# for i in range(min(3, len(df))):\n",
        "#     print(f\"Example {i+1}:\", df[i])"
      ]
    },
    {
      "cell_type": "code",
      "execution_count": null,
      "metadata": {
        "id": "spgUfh4Sn1eE"
      },
      "outputs": [],
      "source": [
        "#instruction format for Q&A\n",
        "def format_qa_instruction(example):\n",
        "    #extract question and answer\n",
        "    question = example.get('inputs', example.get('Question', ''))\n",
        "    answer = example.get('targets', example.get('Answer', ''))\n",
        "\n",
        "    #create instruction format\n",
        "    instruction = f\"\"\"පහත සදහන් ප්‍රශ්නයට නිවැරදි පිළිතුරක් ලබා දෙන්න. පිළිතුරු ලබා දීමේදී ප්‍රශ්නයේ ස්වභාවය අනුව - සරල ප්‍රශ්න සඳහා කෙටි පිළිතුරු ද, සංකීර්ණ ප්‍රශ්න සඳහා විස්තරාත්මක පැහැදිලි කිරීම් ද ලබා දෙන්න.\n",
        "    ### ප්‍රශ්නය: {question}\n",
        "    ### පිළිතුර: {answer}\"\"\"\n",
        "\n",
        "    return instruction"
      ]
    },
    {
      "cell_type": "code",
      "execution_count": null,
      "metadata": {
        "id": "e7gtBPpmsQDl"
      },
      "outputs": [],
      "source": [
        "def tokenize_qa(example):\n",
        "    #format the instruction\n",
        "    formatted_text = format_qa_instruction(example)\n",
        "\n",
        "    #tokenize\n",
        "    result = tokenizer(\n",
        "        formatted_text,\n",
        "        truncation=True,\n",
        "        max_length=MAX_SEQ_LEN+1,\n",
        "        padding=\"max_length\",\n",
        "    )\n",
        "\n",
        "    return {\n",
        "      \"input_ids\": result[\"input_ids\"][:-1],\n",
        "      \"attention_mask\": result[\"attention_mask\"][:-1],\n",
        "    }"
      ]
    },
    {
      "cell_type": "code",
      "execution_count": null,
      "metadata": {
        "id": "BuSHBFqIsQqj"
      },
      "outputs": [],
      "source": [
        "#tokenized_dataset = df.shuffle().map(tokenize_qa, remove_columns=df.column_names)\n",
        "tokenized_dataset = df.shuffle().map(lambda x: tokenize_qa(x), remove_columns=df.column_names)"
      ]
    },
    {
      "cell_type": "code",
      "execution_count": null,
      "metadata": {
        "id": "7Qbr4vv7sTPp"
      },
      "outputs": [],
      "source": [
        "#data split for training and validation\n",
        "split_dataset = tokenized_dataset.train_test_split(test_size=0.1, seed=42)\n",
        "train_dataset = split_dataset['train']\n",
        "eval_dataset = split_dataset['test']"
      ]
    },
    {
      "cell_type": "code",
      "execution_count": null,
      "metadata": {
        "id": "p9Sa_w5gscwm"
      },
      "outputs": [],
      "source": [
        "#setup trainer\n",
        "trainer = transformers.Trainer(\n",
        "    model=model,\n",
        "    train_dataset=train_dataset,\n",
        "    eval_dataset=eval_dataset,\n",
        "    args=transformers.TrainingArguments(\n",
        "        per_device_train_batch_size=MICRO_BATCH_SIZE,\n",
        "        gradient_accumulation_steps=GRADIENT_ACCUMULATION_STEPS,\n",
        "        warmup_steps=100,\n",
        "        num_train_epochs=EPOCHS,\n",
        "        learning_rate=LEARNING_RATE,\n",
        "        fp16=True,\n",
        "        logging_steps=300,\n",
        "        output_dir=OUTPUT_DIR,\n",
        "        save_total_limit=2,\n",
        "        save_strategy=\"steps\",\n",
        "        eval_strategy=\"steps\",\n",
        "        eval_steps=300,\n",
        "        save_steps=300,\n",
        "        load_best_model_at_end=True,\n",
        "        metric_for_best_model=\"eval_loss\",\n",
        "        report_to=\"wandb\",\n",
        "        remove_unused_columns=False,\n",
        "    ),\n",
        "    data_collator=transformers.DataCollatorForLanguageModeling(\n",
        "        tokenizer=tokenizer,\n",
        "        mlm=False,\n",
        "    ),\n",
        ")"
      ]
    },
    {
      "cell_type": "code",
      "execution_count": null,
      "metadata": {
        "id": "wKICqV0VsllK"
      },
      "outputs": [],
      "source": [
        "model.config.use_cache = False"
      ]
    },
    {
      "cell_type": "code",
      "execution_count": null,
      "metadata": {
        "id": "gUcs6bJCso7D"
      },
      "outputs": [],
      "source": [
        "#training\n",
        "trainer.train()"
      ]
    },
    {
      "cell_type": "code",
      "execution_count": null,
      "metadata": {
        "id": "w8xQit5Wssm5"
      },
      "outputs": [],
      "source": [
        "#save model\n",
        "model.save_pretrained(OUTPUT_DIR)\n",
        "tokenizer.save_pretrained(OUTPUT_DIR)"
      ]
    }
  ],
  "metadata": {
    "accelerator": "GPU",
    "colab": {
      "gpuType": "T4",
      "provenance": []
    },
    "kernelspec": {
      "display_name": "Python 3 (ipykernel)",
      "language": "python",
      "name": "python3"
    },
    "language_info": {
      "codemirror_mode": {
        "name": "ipython",
        "version": 3
      },
      "file_extension": ".py",
      "mimetype": "text/x-python",
      "name": "python",
      "nbconvert_exporter": "python",
      "pygments_lexer": "ipython3",
      "version": "3.10.16"
    }
  },
  "nbformat": 4,
  "nbformat_minor": 0
}