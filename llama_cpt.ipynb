{
  "cells": [
    {
      "cell_type": "code",
      "execution_count": null,
      "metadata": {
        "id": "LvRtHHl6ljZG",
        "scrolled": true
      },
      "outputs": [],
      "source": [
        "#libraries\n",
        "!pip -qq install datasets peft accelerate bitsandbytes transformers wandb scikit-learn"
      ]
    },
    {
      "cell_type": "code",
      "execution_count": null,
      "metadata": {
        "id": "d-euqVA2loo_"
      },
      "outputs": [],
      "source": [
        "#imports\n",
        "import torch\n",
        "import transformers\n",
        "from datasets import load_dataset\n",
        "from typing import Optional\n",
        "from transformers import (\n",
        "    AutoTokenizer,\n",
        "    AutoConfig,\n",
        "    AutoModelForCausalLM,\n",
        "    BitsAndBytesConfig,\n",
        "    PreTrainedModel,\n",
        ")\n",
        "from peft import (\n",
        "    prepare_model_for_kbit_training,\n",
        "    LoraConfig,\n",
        "    get_peft_model,\n",
        ")\n",
        "from sklearn.model_selection import train_test_split\n",
        "import sklearn\n",
        "from huggingface_hub import login"
      ]
    },
    {
      "cell_type": "code",
      "execution_count": null,
      "metadata": {
        "id": "vPBMcm_GYx_V"
      },
      "outputs": [],
      "source": [
        "#hf login\n",
        "login(token=\"hf_key\")"
      ]
    },
    {
      "cell_type": "code",
      "execution_count": null,
      "metadata": {
        "id": "nc1fbQ-8snyo"
      },
      "outputs": [],
      "source": [
        "#variables\n",
        "MICRO_BATCH_SIZE = 8\n",
        "BATCH_SIZE = 64\n",
        "GRADIENT_ACCUMULATION_STEPS = BATCH_SIZE // MICRO_BATCH_SIZE\n",
        "EPOCHS = 5\n",
        "LEARNING_RATE = 3e-4\n",
        "MAX_SEQ_LEN = 512\n",
        "LORA_R = 4\n",
        "LORA_ALPHA = 8\n",
        "LORA_DROPOUT = 0.1\n",
        "\n",
        "OUTPUT_DIR = \"LlamaSin-3.2-1b\"\n",
        "MODEL_NAME = \"meta-llama/Llama-3.2-1B\""
      ]
    },
    {
      "cell_type": "code",
      "execution_count": null,
      "metadata": {
        "id": "tCkphkust2EH"
      },
      "outputs": [],
      "source": [
        "#load base model configuration\n",
        "config = AutoConfig.from_pretrained(MODEL_NAME)"
      ]
    },
    {
      "cell_type": "code",
      "execution_count": null,
      "metadata": {
        "id": "TZlIJ7kDt4LH"
      },
      "outputs": [],
      "source": [
        "load_in_4bit=False\n",
        "load_in_8bit=True"
      ]
    },
    {
      "cell_type": "code",
      "execution_count": null,
      "metadata": {
        "id": "CY6QpAjxt9Ys"
      },
      "outputs": [],
      "source": [
        "#quantization setup\n",
        "quantization_config: Optional[BitsAndBytesConfig] = BitsAndBytesConfig(\n",
        "  load_in_4bit=load_in_4bit,\n",
        "  load_in_8bit=load_in_8bit,\n",
        "  llm_int8_threshold=6.0,\n",
        "  llm_int8_has_fp16_weight=False,\n",
        "  bnb_4bit_compute_dtype=torch.float16,\n",
        "  bnb_4bit_use_double_quant=True,\n",
        "  bnb_4bit_quant_type='nf4',\n",
        ") if load_in_4bit or load_in_8bit else None"
      ]
    },
    {
      "cell_type": "code",
      "execution_count": null,
      "metadata": {
        "id": "2gJi6AGkv7-B"
      },
      "outputs": [],
      "source": [
        "#load base model\n",
        "model: PreTrainedModel = AutoModelForCausalLM.from_pretrained(\n",
        "  MODEL_NAME,\n",
        "  config=config,\n",
        "  device_map=\"auto\",\n",
        "  quantization_config=quantization_config,\n",
        "  torch_dtype=torch.float16,\n",
        ")"
      ]
    },
    {
      "cell_type": "code",
      "execution_count": null,
      "metadata": {
        "id": "JuKBHcHNwUkt"
      },
      "outputs": [],
      "source": [
        "tokenizer = AutoTokenizer.from_pretrained(\n",
        "    MODEL_NAME,\n",
        "    add_eos_token=True,\n",
        ")"
      ]
    },
    {
      "cell_type": "code",
      "execution_count": null,
      "metadata": {
        "id": "PvWHEVhocJy9"
      },
      "outputs": [],
      "source": [
        "tokenizer.pad_token_id = 0"
      ]
    },
    {
      "cell_type": "code",
      "execution_count": null,
      "metadata": {
        "id": "mjtFWhkcyGyv"
      },
      "outputs": [],
      "source": [
        "#prepare model for training\n",
        "model = prepare_model_for_kbit_training(model)"
      ]
    },
    {
      "cell_type": "code",
      "execution_count": null,
      "metadata": {
        "id": "i1ODn7HDx4OX"
      },
      "outputs": [],
      "source": [
        "lora_config = LoraConfig(\n",
        "    r=LORA_R,\n",
        "    lora_alpha=LORA_ALPHA,\n",
        "    target_modules=[\"q_proj\", \"v_proj\", \"k_proj\", \"o_proj\", \"gate_proj\", \"up_proj\", \"down_proj\"], # Added more LoRA target modules common for Llama models\n",
        "    lora_dropout=LORA_DROPOUT,\n",
        "    bias=\"none\",\n",
        "    task_type=\"CAUSAL_LM\",\n",
        ")"
      ]
    },
    {
      "cell_type": "code",
      "execution_count": null,
      "metadata": {
        "id": "x8ynYp0jyXyM"
      },
      "outputs": [],
      "source": [
        "model = get_peft_model(model, lora_config)\n",
        "model.print_trainable_parameters()"
      ]
    },
    {
      "cell_type": "code",
      "execution_count": null,
      "metadata": {
        "id": "SXXb3U-MybD8"
      },
      "outputs": [],
      "source": [
        "#load dataset\n",
        "df = load_dataset(\"wikimedia/wikipedia\", \"20231101.si\")\n",
        "df = df[\"train\"]"
      ]
    },
    {
      "cell_type": "code",
      "execution_count": null,
      "metadata": {
        "id": "mtV6Uu-gJtPl"
      },
      "outputs": [],
      "source": [
        "#data split for training and validation\n",
        "split_datasets = df.train_test_split(test_size=0.1, seed=42)\n",
        "df_train = split_datasets[\"train\"]\n",
        "df_val = split_datasets[\"test\"]"
      ]
    },
    {
      "cell_type": "code",
      "execution_count": null,
      "metadata": {
        "id": "SpXmtqVgznth"
      },
      "outputs": [],
      "source": [
        "def tokenize(prompt):\n",
        "  result = tokenizer(\n",
        "      prompt,\n",
        "      truncation=True,\n",
        "      max_length=MAX_SEQ_LEN + 1,\n",
        "      padding=\"max_length\",\n",
        "  )\n",
        "  return {\n",
        "      \"input_ids\": result[\"input_ids\"][:-1],\n",
        "      \"attention_mask\": result[\"attention_mask\"][:-1],\n",
        "  }"
      ]
    },
    {
      "cell_type": "code",
      "execution_count": null,
      "metadata": {
        "id": "Dk_SwS2f19Fk"
      },
      "outputs": [],
      "source": [
        "data_train = df_train.map(lambda x: tokenize(str(x)))\n",
        "data_test = df_val.map(lambda x: tokenize(str(x)))"
      ]
    },
    {
      "cell_type": "code",
      "execution_count": null,
      "metadata": {
        "id": "I6QgP4gQ2faR"
      },
      "outputs": [],
      "source": [
        "#train\n",
        "trainer = transformers.Trainer(\n",
        "    model=model,\n",
        "    train_dataset=data_train,\n",
        "    eval_dataset=data_test,\n",
        "    args=transformers.TrainingArguments(\n",
        "        per_device_train_batch_size=MICRO_BATCH_SIZE,\n",
        "        gradient_accumulation_steps=GRADIENT_ACCUMULATION_STEPS,\n",
        "        warmup_steps=100,\n",
        "        num_train_epochs=EPOCHS,\n",
        "        learning_rate=LEARNING_RATE,\n",
        "        fp16=True,\n",
        "        logging_steps=300,\n",
        "        output_dir=OUTPUT_DIR,\n",
        "        save_total_limit=2,\n",
        "        save_strategy=\"steps\",\n",
        "        eval_strategy=\"steps\",\n",
        "        eval_steps=300,\n",
        "        save_steps=300,\n",
        "        load_best_model_at_end=True,\n",
        "        metric_for_best_model=\"eval_loss\",\n",
        "        report_to=\"wandb\",\n",
        "    ),\n",
        "    data_collator=transformers.DataCollatorForLanguageModeling(tokenizer, mlm=False),\n",
        ")\n",
        "model.config.use_cache = False\n",
        "trainer.train()"
      ]
    },
    {
      "cell_type": "code",
      "execution_count": null,
      "metadata": {
        "id": "94UcwpqT3z_l"
      },
      "outputs": [],
      "source": [
        "model.save_pretrained(OUTPUT_DIR)"
      ]
    }
  ],
  "metadata": {
    "accelerator": "GPU",
    "colab": {
      "gpuType": "T4",
      "provenance": []
    },
    "kernelspec": {
      "display_name": "Python 3 (ipykernel)",
      "language": "python",
      "name": "python3"
    },
    "language_info": {
      "codemirror_mode": {
        "name": "ipython",
        "version": 3
      },
      "file_extension": ".py",
      "mimetype": "text/x-python",
      "name": "python",
      "nbconvert_exporter": "python",
      "pygments_lexer": "ipython3",
      "version": "3.10.16"
    }
  },
  "nbformat": 4,
  "nbformat_minor": 0
}